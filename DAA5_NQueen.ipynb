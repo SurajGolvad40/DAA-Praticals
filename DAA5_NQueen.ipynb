{
  "metadata": {
    "language_info": {
      "codemirror_mode": {
        "name": "python",
        "version": 3
      },
      "file_extension": ".py",
      "mimetype": "text/x-python",
      "name": "python",
      "nbconvert_exporter": "python",
      "pygments_lexer": "ipython3",
      "version": "3.8"
    },
    "kernelspec": {
      "name": "python",
      "display_name": "Python (Pyodide)",
      "language": "python"
    }
  },
  "nbformat_minor": 4,
  "nbformat": 4,
  "cells": [
    {
      "cell_type": "markdown",
      "source": "Algorithm: N-Queen using Backtracking Algorithm\nIS-ATTACK(i, j, board, N)\n    // checking in the column j \n    for k in 1 to i-1 \n        if board[k][j]==1\n            return TRUE \n        \n        // checking upper right diagonal \n        k = i-1 \n        1 = j+l \n        while k>=l and l<=N \n            if board[k][l] -- 1 \n                return TRUE \n            k=k+1 \n            l=l+1\n            \n        // checking upper left diagonal\n        k = i-1 \n        l = j-1 \n        while k>=l and l>=1 \n            if board[k][l] -- 1 \n                return TRUE \n            k=k-1 \n            l=l-1 \n    return FALSE \n\nN-QUEEN(row, n, N, board)\n    if n==0\n        return TRUE\n    for j in 1 to N\n        if !IS-ATTACK(row, j, board, N)\n            board[row][j] = 1\n        if N-QUEEN(row+l, n-1, N, board)\n            return TRUE\n        board[row][j] = 0 //backtracking, changing current decision\n    return FALSE ",
      "metadata": {}
    },
    {
      "cell_type": "code",
      "source": "global N\nN = 4\ndef printSolution(board): \n    for i in range(N): \n        for j in range(N): \n            print(board[i][j], end=' ')\n        print()\n\ndef isSafe(board, row, col):\n    # Check this row on Left side \n    for i in range(col): \n        if board[row][i] == 1: \n            return False \n    \n    for i, j in zip(range(row, -1, -1), range(col, -1, -1)): \n        if board[i][j] == 1:\n            return False\n    \n    # Check Lower diagonal on Left side \n    for i, j in zip(range(row, N, 1), range(col, -1, -1)):\n        if board[i][j] == 1:\n            return False\n    return True \n\ndef solveNQUtil(board, col):\n    if col>= N: \n        return True\n\n    for i in range(N): \n        if isSafe(board, i, col):\n            board[i][col] = 1\n            if solveNQUtil(board, col+ 1) -- True: \n                return True \n            board[i][col] = 0 \n    return False \n    \ndef solveNQ():\n    board= [[0, 0, 0, 0],\n            [0, 0, 0, 0],\n            [0, 0, 0, 0],\n            [0, 0, 0, 0]]\n    if solveNQUtil(board, 0) == False:\n        print (\"Solution does not exist\")\n        return False \n    printSolution(board) \n    return True \n\n# driver program to test above function \nsolveNQ() ",
      "metadata": {
        "trusted": true
      },
      "execution_count": 12,
      "outputs": [
        {
          "name": "stdout",
          "text": "1 0 0 0 \n0 0 0 0 \n0 1 0 0 \n0 0 0 0 \n",
          "output_type": "stream"
        },
        {
          "execution_count": 12,
          "output_type": "execute_result",
          "data": {
            "text/plain": "True"
          },
          "metadata": {}
        }
      ]
    }
  ]
}