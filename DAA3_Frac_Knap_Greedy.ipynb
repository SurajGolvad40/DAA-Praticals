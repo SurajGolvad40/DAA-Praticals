{
  "metadata": {
    "language_info": {
      "codemirror_mode": {
        "name": "python",
        "version": 3
      },
      "file_extension": ".py",
      "mimetype": "text/x-python",
      "name": "python",
      "nbconvert_exporter": "python",
      "pygments_lexer": "ipython3",
      "version": "3.8"
    },
    "kernelspec": {
      "name": "python",
      "display_name": "Python (Pyodide)",
      "language": "python"
    }
  },
  "nbformat_minor": 4,
  "nbformat": 4,
  "cells": [
    {
      "cell_type": "markdown",
      "source": "Algorithm: Greedy-Fractional-Knapsack (w[l .• n], p[l .• n], W)\nfor i = 1 to n \n    do x[i] = 0 \n    weight = 0 \nfor i = 1 to n \n    if weight+ w[i] 􀀏 W then\n        x[i] = 1\n        weight = weight+ w[i] \n    else \n        x[i] = (W - weight) / w[i] \n        weight = W \n        break \nreturn x ",
      "metadata": {}
    },
    {
      "cell_type": "code",
      "source": "def fractional_knapsack(value, weight, capacity):\n    #index = [0, 1, 2, ... , n - 1} for n items \n    index = list(range(len(value))) \n    # contains ratios of values to weight \n    ratio = [v/w for v, w in zip(value, weight)] \n    # index is sorted according to value-to-weight ratio in decreasing order index.sort(key=lambda i: ratio[i], reverse=True) \n    max_value = 0 \n    fractions = [0]*len(value) \n    for i in index: \n        if weight[i] <= capacity:\n            fractions[i] = 1 \n            max_value += value[i] \n            capacity -= weight[i]\n        else:\n            fractions[i] = capacity/weight[i] \n            max_value += value[i]*capacity/weight[i] \n            break \n    return max_value, fractions\n\nn = int(input('Enter number of items: ')) \nvalue = input('Enter the values of the{} item(s) in order: ' \n              .format(n)).split() \nvalue = [int(v) for v in value] \nweight = input('Enter the positive weights of the{} item(s) in order: ' \n               .format(n)).split() \nweight = [int(w) for w in weight] \ncapacity = int(input('Enter maximum weight: ')) \nmax_value, fractions = fractional_knapsack(value, weight, capacity) \nprint('The maximum value of items that can be carried:', max_value) \nprint('The fractions in which the items should be taken:', fractions) ",
      "metadata": {
        "trusted": true
      },
      "execution_count": 4,
      "outputs": [
        {
          "ename": "<class 'TypeError'>",
          "evalue": "int() argument must be a string, a bytes-like object or a real number, not 'Future'",
          "traceback": [
            "\u001b[0;31m---------------------------------------------------------------------------\u001b[0m",
            "\u001b[0;31mTypeError\u001b[0m                                 Traceback (most recent call last)",
            "Cell \u001b[0;32mIn [4], line 20\u001b[0m\n\u001b[1;32m     17\u001b[0m             \u001b[38;5;28;01mbreak\u001b[39;00m \n\u001b[1;32m     18\u001b[0m     \u001b[38;5;28;01mreturn\u001b[39;00m max_value, fractions\n\u001b[0;32m---> 20\u001b[0m n \u001b[38;5;241m=\u001b[39m \u001b[38;5;28;43mint\u001b[39;49m\u001b[43m(\u001b[49m\u001b[38;5;28;43minput\u001b[39;49m\u001b[43m(\u001b[49m\u001b[38;5;124;43m'\u001b[39;49m\u001b[38;5;124;43mEnter number of items: \u001b[39;49m\u001b[38;5;124;43m'\u001b[39;49m\u001b[43m)\u001b[49m\u001b[43m)\u001b[49m \n\u001b[1;32m     21\u001b[0m value \u001b[38;5;241m=\u001b[39m \u001b[38;5;28minput\u001b[39m(\u001b[38;5;124m'\u001b[39m\u001b[38;5;124mEnter the values of the\u001b[39m\u001b[38;5;132;01m{}\u001b[39;00m\u001b[38;5;124m item(s) in order: \u001b[39m\u001b[38;5;124m'\u001b[39m \n\u001b[1;32m     22\u001b[0m               \u001b[38;5;241m.\u001b[39mformat(n))\u001b[38;5;241m.\u001b[39msplit() \n\u001b[1;32m     23\u001b[0m value \u001b[38;5;241m=\u001b[39m [\u001b[38;5;28mint\u001b[39m(v) \u001b[38;5;28;01mfor\u001b[39;00m v \u001b[38;5;129;01min\u001b[39;00m value] \n",
            "\u001b[0;31mTypeError\u001b[0m: int() argument must be a string, a bytes-like object or a real number, not 'Future'"
          ],
          "output_type": "error"
        }
      ]
    },
    {
      "cell_type": "code",
      "source": "",
      "metadata": {},
      "execution_count": null,
      "outputs": []
    }
  ]
}